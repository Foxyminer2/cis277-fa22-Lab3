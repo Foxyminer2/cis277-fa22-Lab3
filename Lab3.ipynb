{
  "cells": [
    {
      "cell_type": "markdown",
      "metadata": {},
      "source": [
        "# Lab 3 - Video Game Reviews"
      ]
    },
    {
      "cell_type": "code",
      "execution_count": 1,
      "metadata": {
        "id": "gIWe8vk2fPX7"
      },
      "outputs": [],
      "source": [
        "import pandas as pd"
      ]
    },
    {
      "cell_type": "markdown",
      "metadata": {
        "id": "4N0ty0ecrWcn"
      },
      "source": [
        "## Import Data"
      ]
    },
    {
      "cell_type": "code",
      "execution_count": 2,
      "metadata": {
        "id": "qY7nb0rAgWrr"
      },
      "outputs": [],
      "source": [
        "df = pd.read_csv('imdb-videogames.csv')\n",
        "# df.to_csv(\"clean_videogame.csv\")"
      ]
    },
    {
      "cell_type": "code",
      "execution_count": 3,
      "metadata": {
        "colab": {
          "base_uri": "https://localhost:8080/",
          "height": 359
        },
        "id": "eIkZ2SBehFrY",
        "outputId": "8952e428-b938-4933-b581-9be7ddf2cdea"
      },
      "outputs": [
        {
          "data": {
            "text/html": [
              "<div>\n",
              "<style scoped>\n",
              "    .dataframe tbody tr th:only-of-type {\n",
              "        vertical-align: middle;\n",
              "    }\n",
              "\n",
              "    .dataframe tbody tr th {\n",
              "        vertical-align: top;\n",
              "    }\n",
              "\n",
              "    .dataframe thead th {\n",
              "        text-align: right;\n",
              "    }\n",
              "</style>\n",
              "<table border=\"1\" class=\"dataframe\">\n",
              "  <thead>\n",
              "    <tr style=\"text-align: right;\">\n",
              "      <th></th>\n",
              "      <th>Unnamed: 0</th>\n",
              "      <th>name</th>\n",
              "      <th>url</th>\n",
              "      <th>year</th>\n",
              "      <th>certificate</th>\n",
              "      <th>rating</th>\n",
              "      <th>votes</th>\n",
              "      <th>plot summary</th>\n",
              "      <th>Action</th>\n",
              "      <th>Adventure</th>\n",
              "      <th>Comedy</th>\n",
              "      <th>Crime</th>\n",
              "      <th>Family</th>\n",
              "      <th>Fantasy</th>\n",
              "      <th>Mystery</th>\n",
              "      <th>Sci-Fi</th>\n",
              "      <th>Thriller</th>\n",
              "    </tr>\n",
              "  </thead>\n",
              "  <tbody>\n",
              "    <tr>\n",
              "      <th>0</th>\n",
              "      <td>0</td>\n",
              "      <td>Spider-Man</td>\n",
              "      <td>https://www.imdb.com/title/tt5807780/?ref_=adv...</td>\n",
              "      <td>2018.0</td>\n",
              "      <td>T</td>\n",
              "      <td>9.2</td>\n",
              "      <td>20,759</td>\n",
              "      <td>When a new villain threatens New York City, Pe...</td>\n",
              "      <td>True</td>\n",
              "      <td>True</td>\n",
              "      <td>False</td>\n",
              "      <td>False</td>\n",
              "      <td>False</td>\n",
              "      <td>True</td>\n",
              "      <td>False</td>\n",
              "      <td>False</td>\n",
              "      <td>False</td>\n",
              "    </tr>\n",
              "    <tr>\n",
              "      <th>1</th>\n",
              "      <td>1</td>\n",
              "      <td>Red Dead Redemption II</td>\n",
              "      <td>https://www.imdb.com/title/tt6161168/?ref_=adv...</td>\n",
              "      <td>2018.0</td>\n",
              "      <td>M</td>\n",
              "      <td>9.7</td>\n",
              "      <td>35,703</td>\n",
              "      <td>Amidst the decline of the Wild West at the tur...</td>\n",
              "      <td>True</td>\n",
              "      <td>True</td>\n",
              "      <td>False</td>\n",
              "      <td>True</td>\n",
              "      <td>False</td>\n",
              "      <td>False</td>\n",
              "      <td>False</td>\n",
              "      <td>False</td>\n",
              "      <td>False</td>\n",
              "    </tr>\n",
              "    <tr>\n",
              "      <th>2</th>\n",
              "      <td>2</td>\n",
              "      <td>Grand Theft Auto V</td>\n",
              "      <td>https://www.imdb.com/title/tt2103188/?ref_=adv...</td>\n",
              "      <td>2013.0</td>\n",
              "      <td>M</td>\n",
              "      <td>9.5</td>\n",
              "      <td>59,986</td>\n",
              "      <td>Three very different criminals team up for a s...</td>\n",
              "      <td>True</td>\n",
              "      <td>False</td>\n",
              "      <td>False</td>\n",
              "      <td>True</td>\n",
              "      <td>False</td>\n",
              "      <td>False</td>\n",
              "      <td>False</td>\n",
              "      <td>False</td>\n",
              "      <td>False</td>\n",
              "    </tr>\n",
              "    <tr>\n",
              "      <th>3</th>\n",
              "      <td>3</td>\n",
              "      <td>God of War</td>\n",
              "      <td>https://www.imdb.com/title/tt5838588/?ref_=adv...</td>\n",
              "      <td>2018.0</td>\n",
              "      <td>M</td>\n",
              "      <td>9.6</td>\n",
              "      <td>26,118</td>\n",
              "      <td>After wiping out the gods of Mount Olympus, Kr...</td>\n",
              "      <td>True</td>\n",
              "      <td>True</td>\n",
              "      <td>False</td>\n",
              "      <td>False</td>\n",
              "      <td>False</td>\n",
              "      <td>False</td>\n",
              "      <td>False</td>\n",
              "      <td>False</td>\n",
              "      <td>False</td>\n",
              "    </tr>\n",
              "    <tr>\n",
              "      <th>4</th>\n",
              "      <td>4</td>\n",
              "      <td>Uncharted 4: A Thief's End</td>\n",
              "      <td>https://www.imdb.com/title/tt3334704/?ref_=adv...</td>\n",
              "      <td>2016.0</td>\n",
              "      <td>T</td>\n",
              "      <td>9.5</td>\n",
              "      <td>28,722</td>\n",
              "      <td>Thrown back into the dangerous underworld he'd...</td>\n",
              "      <td>True</td>\n",
              "      <td>True</td>\n",
              "      <td>False</td>\n",
              "      <td>False</td>\n",
              "      <td>False</td>\n",
              "      <td>False</td>\n",
              "      <td>False</td>\n",
              "      <td>False</td>\n",
              "      <td>False</td>\n",
              "    </tr>\n",
              "  </tbody>\n",
              "</table>\n",
              "</div>"
            ],
            "text/plain": [
              "   Unnamed: 0                        name  \\\n",
              "0           0                  Spider-Man   \n",
              "1           1      Red Dead Redemption II   \n",
              "2           2          Grand Theft Auto V   \n",
              "3           3                  God of War   \n",
              "4           4  Uncharted 4: A Thief's End   \n",
              "\n",
              "                                                 url    year certificate  \\\n",
              "0  https://www.imdb.com/title/tt5807780/?ref_=adv...  2018.0           T   \n",
              "1  https://www.imdb.com/title/tt6161168/?ref_=adv...  2018.0           M   \n",
              "2  https://www.imdb.com/title/tt2103188/?ref_=adv...  2013.0           M   \n",
              "3  https://www.imdb.com/title/tt5838588/?ref_=adv...  2018.0           M   \n",
              "4  https://www.imdb.com/title/tt3334704/?ref_=adv...  2016.0           T   \n",
              "\n",
              "  rating   votes                                       plot summary  Action  \\\n",
              "0    9.2  20,759  When a new villain threatens New York City, Pe...    True   \n",
              "1    9.7  35,703  Amidst the decline of the Wild West at the tur...    True   \n",
              "2    9.5  59,986  Three very different criminals team up for a s...    True   \n",
              "3    9.6  26,118  After wiping out the gods of Mount Olympus, Kr...    True   \n",
              "4    9.5  28,722  Thrown back into the dangerous underworld he'd...    True   \n",
              "\n",
              "   Adventure  Comedy  Crime  Family  Fantasy  Mystery  Sci-Fi  Thriller  \n",
              "0       True   False  False   False     True    False   False     False  \n",
              "1       True   False   True   False    False    False   False     False  \n",
              "2      False   False   True   False    False    False   False     False  \n",
              "3       True   False  False   False    False    False   False     False  \n",
              "4       True   False  False   False    False    False   False     False  "
            ]
          },
          "execution_count": 3,
          "metadata": {},
          "output_type": "execute_result"
        }
      ],
      "source": [
        "df.head()"
      ]
    },
    {
      "cell_type": "code",
      "execution_count": 4,
      "metadata": {
        "colab": {
          "base_uri": "https://localhost:8080/"
        },
        "id": "eR6x6BUwhptZ",
        "outputId": "e2b94951-3d5d-47bf-e3e4-c5c571d2d879"
      },
      "outputs": [
        {
          "data": {
            "text/plain": [
              "(20805, 17)"
            ]
          },
          "execution_count": 4,
          "metadata": {},
          "output_type": "execute_result"
        }
      ],
      "source": [
        "df.shape"
      ]
    },
    {
      "cell_type": "code",
      "execution_count": 5,
      "metadata": {
        "colab": {
          "base_uri": "https://localhost:8080/"
        },
        "id": "kx4xO7-biEGK",
        "outputId": "a5d0a366-f1eb-46e6-a56b-59699a4d9fad"
      },
      "outputs": [
        {
          "name": "stdout",
          "output_type": "stream",
          "text": [
            "<class 'pandas.core.frame.DataFrame'>\n",
            "RangeIndex: 20805 entries, 0 to 20804\n",
            "Data columns (total 17 columns):\n",
            " #   Column        Non-Null Count  Dtype  \n",
            "---  ------        --------------  -----  \n",
            " 0   Unnamed: 0    20805 non-null  int64  \n",
            " 1   name          20805 non-null  object \n",
            " 2   url           20805 non-null  object \n",
            " 3   year          20538 non-null  float64\n",
            " 4   certificate   7905 non-null   object \n",
            " 5   rating        11602 non-null  object \n",
            " 6   votes         11602 non-null  object \n",
            " 7   plot summary  20805 non-null  object \n",
            " 8   Action        20805 non-null  bool   \n",
            " 9   Adventure     20805 non-null  bool   \n",
            " 10  Comedy        20805 non-null  bool   \n",
            " 11  Crime         20805 non-null  bool   \n",
            " 12  Family        20805 non-null  bool   \n",
            " 13  Fantasy       20805 non-null  bool   \n",
            " 14  Mystery       20805 non-null  bool   \n",
            " 15  Sci-Fi        20805 non-null  bool   \n",
            " 16  Thriller      20805 non-null  bool   \n",
            "dtypes: bool(9), float64(1), int64(1), object(6)\n",
            "memory usage: 1.4+ MB\n"
          ]
        }
      ],
      "source": [
        "df.info()"
      ]
    },
    {
      "cell_type": "code",
      "execution_count": 6,
      "metadata": {},
      "outputs": [
        {
          "data": {
            "text/plain": [
              "T            2474\n",
              "E            2006\n",
              "M            1820\n",
              "E10+          814\n",
              "Unrated       241\n",
              "K-A           229\n",
              "Not Rated     184\n",
              "AO             32\n",
              "GA             26\n",
              "EC             25\n",
              "CE             13\n",
              "12              9\n",
              "PG-13           7\n",
              "MA-13           7\n",
              "Approved        4\n",
              "G               4\n",
              "MA-17           3\n",
              "PG              3\n",
              "TV-MA           2\n",
              "Passed          1\n",
              "TV-14           1\n",
              "Name: certificate, dtype: int64"
            ]
          },
          "execution_count": 6,
          "metadata": {},
          "output_type": "execute_result"
        }
      ],
      "source": [
        "df.certificate.value_counts()"
      ]
    },
    {
      "cell_type": "markdown",
      "metadata": {},
      "source": [
        "## Questions"
      ]
    },
    {
      "cell_type": "code",
      "execution_count": 7,
      "metadata": {},
      "outputs": [],
      "source": [
        "df['rating'] = df['rating'].str.replace('*','', regex=True)\n",
        "df['rating'] = df['rating'].replace('Nan',0)\n",
        "df['rating'] = df['rating'].astype(float)\n",
        "\n",
        "df['votes'] = df['votes'].fillna(0)\n",
        "df['votes'] = df['votes'].replace(',','', regex=True)\n",
        "df['votes'] = df['votes'].astype(int)\n",
        "df.rename(columns = {'Unnamed: 0':'Unnamed', 'plot summary':'plot_summary'}, inplace = True)\n",
        "df.drop_duplicates(inplace=True)"
      ]
    },
    {
      "cell_type": "markdown",
      "metadata": {},
      "source": [
        "### 1. What is the average rating for Action games?"
      ]
    },
    {
      "cell_type": "code",
      "execution_count": 8,
      "metadata": {},
      "outputs": [
        {
          "name": "stdout",
          "output_type": "stream",
          "text": [
            "The average rating for Action games is 7.068877867327932\n"
          ]
        }
      ],
      "source": [
        "print(f'The average rating for Action games is {(df.loc[df[\"Action\"] == True]).rating.mean()}')\n"
      ]
    },
    {
      "cell_type": "markdown",
      "metadata": {},
      "source": [
        "### 2. What is the average rating of games after 2010? What is the average rating of games before (and including) 2010?"
      ]
    },
    {
      "cell_type": "code",
      "execution_count": 9,
      "metadata": {},
      "outputs": [
        {
          "name": "stdout",
          "output_type": "stream",
          "text": [
            "The average rating of games after 2010 = 7.127486795774628, and the average rating of games before 2010 = 7.00639189189191\n"
          ]
        }
      ],
      "source": [
        "print(f'The average rating of games after 2010 = {df[(df[\"year\"]>=2010)][\"rating\"].mean()}, and the average rating of games before 2010 = {df[(df[\"year\"]<=2010)][\"rating\"].mean()}')"
      ]
    },
    {
      "cell_type": "markdown",
      "metadata": {},
      "source": [
        "### 3. What games include \"Fallout\" in their title?"
      ]
    },
    {
      "cell_type": "code",
      "execution_count": 10,
      "metadata": {},
      "outputs": [
        {
          "data": {
            "text/html": [
              "<div>\n",
              "<style scoped>\n",
              "    .dataframe tbody tr th:only-of-type {\n",
              "        vertical-align: middle;\n",
              "    }\n",
              "\n",
              "    .dataframe tbody tr th {\n",
              "        vertical-align: top;\n",
              "    }\n",
              "\n",
              "    .dataframe thead th {\n",
              "        text-align: right;\n",
              "    }\n",
              "</style>\n",
              "<table border=\"1\" class=\"dataframe\">\n",
              "  <thead>\n",
              "    <tr style=\"text-align: right;\">\n",
              "      <th></th>\n",
              "      <th>name</th>\n",
              "    </tr>\n",
              "  </thead>\n",
              "  <tbody>\n",
              "    <tr>\n",
              "      <th>29</th>\n",
              "      <td>Fallout: New Vegas</td>\n",
              "    </tr>\n",
              "    <tr>\n",
              "      <th>37</th>\n",
              "      <td>Fallout 4</td>\n",
              "    </tr>\n",
              "    <tr>\n",
              "      <th>115</th>\n",
              "      <td>Fallout 3</td>\n",
              "    </tr>\n",
              "    <tr>\n",
              "      <th>207</th>\n",
              "      <td>Fallout 76</td>\n",
              "    </tr>\n",
              "    <tr>\n",
              "      <th>340</th>\n",
              "      <td>Fallout: A Post-Nuclear Role-Playing Game</td>\n",
              "    </tr>\n",
              "    <tr>\n",
              "      <th>437</th>\n",
              "      <td>Fallout 2: A Post-Nuclear Role-Playing Game</td>\n",
              "    </tr>\n",
              "    <tr>\n",
              "      <th>1062</th>\n",
              "      <td>Fallout: The Frontier</td>\n",
              "    </tr>\n",
              "    <tr>\n",
              "      <th>1233</th>\n",
              "      <td>Fallout Tactics: Brotherhood of Steel</td>\n",
              "    </tr>\n",
              "    <tr>\n",
              "      <th>1872</th>\n",
              "      <td>Fallout: New Vegas - Honest Hearts</td>\n",
              "    </tr>\n",
              "    <tr>\n",
              "      <th>1964</th>\n",
              "      <td>Fallout 4: New Vegas</td>\n",
              "    </tr>\n",
              "    <tr>\n",
              "      <th>2003</th>\n",
              "      <td>Fallout: Brotherhood of Steel</td>\n",
              "    </tr>\n",
              "    <tr>\n",
              "      <th>2117</th>\n",
              "      <td>Fallout: New Vegas - Old World Blues</td>\n",
              "    </tr>\n",
              "    <tr>\n",
              "      <th>2170</th>\n",
              "      <td>Fallout Legacy Collection</td>\n",
              "    </tr>\n",
              "    <tr>\n",
              "      <th>2362</th>\n",
              "      <td>Fallout: New Vegas - Simply Uncut</td>\n",
              "    </tr>\n",
              "    <tr>\n",
              "      <th>2472</th>\n",
              "      <td>Fallout 4: Far Harbor</td>\n",
              "    </tr>\n",
              "    <tr>\n",
              "      <th>2549</th>\n",
              "      <td>Fallout: New Vegas - Dead Money</td>\n",
              "    </tr>\n",
              "    <tr>\n",
              "      <th>2681</th>\n",
              "      <td>Fallout: Miami</td>\n",
              "    </tr>\n",
              "    <tr>\n",
              "      <th>2718</th>\n",
              "      <td>Fallout 4: Fusion City Rising</td>\n",
              "    </tr>\n",
              "    <tr>\n",
              "      <th>2861</th>\n",
              "      <td>Fallout: New California</td>\n",
              "    </tr>\n",
              "    <tr>\n",
              "      <th>3047</th>\n",
              "      <td>Fallout: New Vegas - Lonesome Road</td>\n",
              "    </tr>\n",
              "    <tr>\n",
              "      <th>3086</th>\n",
              "      <td>Fallout 4: Heather Casdin</td>\n",
              "    </tr>\n",
              "    <tr>\n",
              "      <th>3127</th>\n",
              "      <td>Fallout 3: Point Lookout</td>\n",
              "    </tr>\n",
              "    <tr>\n",
              "      <th>3141</th>\n",
              "      <td>Fallout 3: Operation: Anchorage</td>\n",
              "    </tr>\n",
              "    <tr>\n",
              "      <th>3165</th>\n",
              "      <td>Fallout 4: Nuka-World</td>\n",
              "    </tr>\n",
              "    <tr>\n",
              "      <th>3206</th>\n",
              "      <td>Fallout 3: Broken Steel</td>\n",
              "    </tr>\n",
              "    <tr>\n",
              "      <th>3440</th>\n",
              "      <td>Fallout 76: Steel Reign</td>\n",
              "    </tr>\n",
              "    <tr>\n",
              "      <th>3554</th>\n",
              "      <td>Fallout 3: The Pitt</td>\n",
              "    </tr>\n",
              "    <tr>\n",
              "      <th>3615</th>\n",
              "      <td>Fallout 3: Mothership Zeta</td>\n",
              "    </tr>\n",
              "    <tr>\n",
              "      <th>3719</th>\n",
              "      <td>Fallout 76: Steel Dawn</td>\n",
              "    </tr>\n",
              "    <tr>\n",
              "      <th>3731</th>\n",
              "      <td>Fallout 76: Expeditions - The Pitt</td>\n",
              "    </tr>\n",
              "    <tr>\n",
              "      <th>4012</th>\n",
              "      <td>Fallout 4: Capital Wasteland</td>\n",
              "    </tr>\n",
              "    <tr>\n",
              "      <th>4190</th>\n",
              "      <td>Fallout 76: Wastelanders</td>\n",
              "    </tr>\n",
              "    <tr>\n",
              "      <th>5306</th>\n",
              "      <td>Fallout 4: Automatron</td>\n",
              "    </tr>\n",
              "    <tr>\n",
              "      <th>8315</th>\n",
              "      <td>Fallout 4 - Point Lookout</td>\n",
              "    </tr>\n",
              "    <tr>\n",
              "      <th>9821</th>\n",
              "      <td>Fallout: Cascadia</td>\n",
              "    </tr>\n",
              "    <tr>\n",
              "      <th>10013</th>\n",
              "      <td>Fallout 4</td>\n",
              "    </tr>\n",
              "    <tr>\n",
              "      <th>10027</th>\n",
              "      <td>Fallout 3</td>\n",
              "    </tr>\n",
              "    <tr>\n",
              "      <th>10716</th>\n",
              "      <td>Fallout 4: London</td>\n",
              "    </tr>\n",
              "    <tr>\n",
              "      <th>12535</th>\n",
              "      <td>Fallout 4: Wasteland Workshop</td>\n",
              "    </tr>\n",
              "    <tr>\n",
              "      <th>13598</th>\n",
              "      <td>Fallout 4: Vault-Tec Workshop</td>\n",
              "    </tr>\n",
              "    <tr>\n",
              "      <th>14919</th>\n",
              "      <td>Fallout 4: Contraptions Workshop</td>\n",
              "    </tr>\n",
              "    <tr>\n",
              "      <th>19373</th>\n",
              "      <td>Fallout: A Post-Nuclear Role-Playing Game</td>\n",
              "    </tr>\n",
              "    <tr>\n",
              "      <th>19425</th>\n",
              "      <td>Fallout New Vegas: Brave New World</td>\n",
              "    </tr>\n",
              "    <tr>\n",
              "      <th>19513</th>\n",
              "      <td>Fallout Shelter</td>\n",
              "    </tr>\n",
              "  </tbody>\n",
              "</table>\n",
              "</div>"
            ],
            "text/plain": [
              "                                              name\n",
              "29                              Fallout: New Vegas\n",
              "37                                       Fallout 4\n",
              "115                                      Fallout 3\n",
              "207                                     Fallout 76\n",
              "340      Fallout: A Post-Nuclear Role-Playing Game\n",
              "437    Fallout 2: A Post-Nuclear Role-Playing Game\n",
              "1062                         Fallout: The Frontier\n",
              "1233         Fallout Tactics: Brotherhood of Steel\n",
              "1872            Fallout: New Vegas - Honest Hearts\n",
              "1964                          Fallout 4: New Vegas\n",
              "2003                 Fallout: Brotherhood of Steel\n",
              "2117          Fallout: New Vegas - Old World Blues\n",
              "2170                     Fallout Legacy Collection\n",
              "2362             Fallout: New Vegas - Simply Uncut\n",
              "2472                         Fallout 4: Far Harbor\n",
              "2549               Fallout: New Vegas - Dead Money\n",
              "2681                                Fallout: Miami\n",
              "2718                 Fallout 4: Fusion City Rising\n",
              "2861                       Fallout: New California\n",
              "3047            Fallout: New Vegas - Lonesome Road\n",
              "3086                     Fallout 4: Heather Casdin\n",
              "3127                      Fallout 3: Point Lookout\n",
              "3141               Fallout 3: Operation: Anchorage\n",
              "3165                         Fallout 4: Nuka-World\n",
              "3206                       Fallout 3: Broken Steel\n",
              "3440                       Fallout 76: Steel Reign\n",
              "3554                           Fallout 3: The Pitt\n",
              "3615                    Fallout 3: Mothership Zeta\n",
              "3719                        Fallout 76: Steel Dawn\n",
              "3731            Fallout 76: Expeditions - The Pitt\n",
              "4012                  Fallout 4: Capital Wasteland\n",
              "4190                      Fallout 76: Wastelanders\n",
              "5306                         Fallout 4: Automatron\n",
              "8315                     Fallout 4 - Point Lookout\n",
              "9821                             Fallout: Cascadia\n",
              "10013                                    Fallout 4\n",
              "10027                                    Fallout 3\n",
              "10716                            Fallout 4: London\n",
              "12535                Fallout 4: Wasteland Workshop\n",
              "13598                Fallout 4: Vault-Tec Workshop\n",
              "14919             Fallout 4: Contraptions Workshop\n",
              "19373    Fallout: A Post-Nuclear Role-Playing Game\n",
              "19425           Fallout New Vegas: Brave New World\n",
              "19513                              Fallout Shelter"
            ]
          },
          "execution_count": 10,
          "metadata": {},
          "output_type": "execute_result"
        }
      ],
      "source": [
        "pd.DataFrame(df[df.name.str.contains(\"Fallout\")].name)\n"
      ]
    },
    {
      "cell_type": "markdown",
      "metadata": {},
      "source": [
        "### 4. What is the most common certificate for Sci-Fi games? "
      ]
    },
    {
      "cell_type": "code",
      "execution_count": 11,
      "metadata": {},
      "outputs": [
        {
          "name": "stdout",
          "output_type": "stream",
          "text": [
            "The most common game certificate is T\n"
          ]
        }
      ],
      "source": [
        "print(f'The most common game certificate is {df.certificate.describe().top}')"
      ]
    },
    {
      "cell_type": "markdown",
      "metadata": {},
      "source": [
        "### 5. What percent of Thiller games have M or AO certificate?"
      ]
    },
    {
      "cell_type": "code",
      "execution_count": 12,
      "metadata": {},
      "outputs": [
        {
          "name": "stdout",
          "output_type": "stream",
          "text": [
            " There are 38% of Thriller games with M or AO certificates\n"
          ]
        }
      ],
      "source": [
        "print(f' There are {round(len(df.loc[(df[\"Thriller\"] == True) & (df[\"certificate\"] == \"M\") | (df[\"certificate\"] == \"AO\")]) / len(df.loc[(df[\"Thriller\"] == True)]) * 100)}% of Thriller games with M or AO certificates')"
      ]
    },
    {
      "cell_type": "markdown",
      "metadata": {},
      "source": [
        "### 6. What is the mean and median rating for Family games? for Action games?"
      ]
    },
    {
      "cell_type": "code",
      "execution_count": 33,
      "metadata": {},
      "outputs": [
        {
          "name": "stdout",
          "output_type": "stream",
          "text": [
            "The average rating for Action games is 7.068877867327932 the median is 7.2, and the average rating of family games is 6.686450381679379 the median is 6.9\n"
          ]
        }
      ],
      "source": [
        "print(f'The average rating for Action games is {df.loc[df[\"Action\"] == True].rating.mean()} the median is {df.loc[df[\"Action\"] == True].rating.median()}, and the average rating of family games is {df.loc[df[\"Family\"] == True].rating.mean()} the median is {df.loc[df[\"Family\"] == True].rating.median()}')"
      ]
    },
    {
      "cell_type": "markdown",
      "metadata": {},
      "source": [
        "### 7. Which game from 2018 got the most votes? "
      ]
    },
    {
      "cell_type": "code",
      "execution_count": 34,
      "metadata": {},
      "outputs": [
        {
          "name": "stdout",
          "output_type": "stream",
          "text": [
            "The game with the most votes from 2018 is 15915    Red Dead Redemption II\n",
            "Name: name, dtype: object with a number of 35709\n"
          ]
        }
      ],
      "source": [
        "print(f'The game with the most votes from 2018 is {df[df.votes == df[(df[\"year\"]==2018)][\"votes\"].max()].name} with a number of {df[(df[\"year\"]==2018)][\"votes\"].max()}')\n",
        "\n",
        "# *****\n"
      ]
    },
    {
      "cell_type": "markdown",
      "metadata": {},
      "source": [
        "### 8. What is the average rating for each genre (Action, Adventure, Comedy, Crime, Family, Fantasy, Mystery, Sci-Fi, and Thriller)?"
      ]
    },
    {
      "cell_type": "code",
      "execution_count": 35,
      "metadata": {},
      "outputs": [
        {
          "data": {
            "text/html": [
              "<div>\n",
              "<style scoped>\n",
              "    .dataframe tbody tr th:only-of-type {\n",
              "        vertical-align: middle;\n",
              "    }\n",
              "\n",
              "    .dataframe tbody tr th {\n",
              "        vertical-align: top;\n",
              "    }\n",
              "\n",
              "    .dataframe thead th {\n",
              "        text-align: right;\n",
              "    }\n",
              "</style>\n",
              "<table border=\"1\" class=\"dataframe\">\n",
              "  <thead>\n",
              "    <tr style=\"text-align: right;\">\n",
              "      <th></th>\n",
              "      <th>Type</th>\n",
              "      <th>Average Rating</th>\n",
              "    </tr>\n",
              "  </thead>\n",
              "  <tbody>\n",
              "    <tr>\n",
              "      <th>0</th>\n",
              "      <td>Action</td>\n",
              "      <td>7.068878</td>\n",
              "    </tr>\n",
              "    <tr>\n",
              "      <th>1</th>\n",
              "      <td>Adventure</td>\n",
              "      <td>7.249050</td>\n",
              "    </tr>\n",
              "    <tr>\n",
              "      <th>2</th>\n",
              "      <td>Comedy</td>\n",
              "      <td>7.186753</td>\n",
              "    </tr>\n",
              "    <tr>\n",
              "      <th>3</th>\n",
              "      <td>Crime</td>\n",
              "      <td>7.315111</td>\n",
              "    </tr>\n",
              "    <tr>\n",
              "      <th>4</th>\n",
              "      <td>Family</td>\n",
              "      <td>6.686450</td>\n",
              "    </tr>\n",
              "    <tr>\n",
              "      <th>5</th>\n",
              "      <td>Fantasy</td>\n",
              "      <td>7.261732</td>\n",
              "    </tr>\n",
              "    <tr>\n",
              "      <th>6</th>\n",
              "      <td>Mystery</td>\n",
              "      <td>7.451329</td>\n",
              "    </tr>\n",
              "    <tr>\n",
              "      <th>7</th>\n",
              "      <td>Sci-Fi</td>\n",
              "      <td>6.949254</td>\n",
              "    </tr>\n",
              "    <tr>\n",
              "      <th>8</th>\n",
              "      <td>Thriller</td>\n",
              "      <td>7.107143</td>\n",
              "    </tr>\n",
              "  </tbody>\n",
              "</table>\n",
              "</div>"
            ],
            "text/plain": [
              "        Type  Average Rating\n",
              "0     Action        7.068878\n",
              "1  Adventure        7.249050\n",
              "2     Comedy        7.186753\n",
              "3      Crime        7.315111\n",
              "4     Family        6.686450\n",
              "5    Fantasy        7.261732\n",
              "6    Mystery        7.451329\n",
              "7     Sci-Fi        6.949254\n",
              "8   Thriller        7.107143"
            ]
          },
          "execution_count": 35,
          "metadata": {},
          "output_type": "execute_result"
        }
      ],
      "source": [
        "pd.DataFrame({'Type': ['Action', 'Adventure', 'Comedy', 'Crime', 'Family', 'Fantasy', 'Mystery', 'Sci-Fi', 'Thriller'],'Average Rating' : [df.loc[df[\"Action\"] == True].rating.mean(), df.loc[df[\"Adventure\"] == True].rating.mean(), df.loc[df[\"Comedy\"] == True].rating.mean(), df.loc[df[\"Crime\"] == True].rating.mean(), df.loc[df[\"Family\"] == True].rating.mean(), df.loc[df[\"Fantasy\"] == True].rating.mean(), df.loc[df[\"Mystery\"] == True].rating.mean(), df.loc[df[\"Sci-Fi\"] == True].rating.mean(), df.loc[df[\"Thriller\"] == True].rating.mean()]})"
      ]
    },
    {
      "cell_type": "markdown",
      "metadata": {},
      "source": [
        "### 9. Which year's games received the most votes?"
      ]
    },
    {
      "cell_type": "code",
      "execution_count": 36,
      "metadata": {},
      "outputs": [
        {
          "data": {
            "text/plain": [
              "year\n",
              "2013.0    60597\n",
              "2004.0    39632\n",
              "2018.0    35709\n",
              "2008.0    34555\n",
              "2011.0    30766\n",
              "          ...  \n",
              "2025.0        0\n",
              "2023.0        0\n",
              "1964.0        0\n",
              "2024.0        0\n",
              "2027.0        0\n",
              "Name: votes, Length: 61, dtype: int64"
            ]
          },
          "execution_count": 36,
          "metadata": {},
          "output_type": "execute_result"
        }
      ],
      "source": [
        "df.groupby(\"year\").votes.max().sort_values()[::-1]"
      ]
    },
    {
      "cell_type": "markdown",
      "metadata": {},
      "source": [
        "### 10. What's the average number of votes for games that are not Action games?"
      ]
    },
    {
      "cell_type": "code",
      "execution_count": 61,
      "metadata": {},
      "outputs": [
        {
          "name": "stdout",
          "output_type": "stream",
          "text": [
            "The average rating for non-Action games is 75.06931139411698\n"
          ]
        }
      ],
      "source": [
        "print(f'The average votes for non-Action games is {df.loc[df[\"Action\"] == False].votes.mean()}')"
      ]
    },
    {
      "cell_type": "markdown",
      "metadata": {},
      "source": [
        "### 11. What game are platformers?"
      ]
    },
    {
      "cell_type": "code",
      "execution_count": 62,
      "metadata": {},
      "outputs": [
        {
          "data": {
            "text/html": [
              "<div>\n",
              "<style scoped>\n",
              "    .dataframe tbody tr th:only-of-type {\n",
              "        vertical-align: middle;\n",
              "    }\n",
              "\n",
              "    .dataframe tbody tr th {\n",
              "        vertical-align: top;\n",
              "    }\n",
              "\n",
              "    .dataframe thead th {\n",
              "        text-align: right;\n",
              "    }\n",
              "</style>\n",
              "<table border=\"1\" class=\"dataframe\">\n",
              "  <thead>\n",
              "    <tr style=\"text-align: right;\">\n",
              "      <th></th>\n",
              "      <th>name</th>\n",
              "    </tr>\n",
              "  </thead>\n",
              "  <tbody>\n",
              "    <tr>\n",
              "      <th>434</th>\n",
              "      <td>Sonic and the Fallen Star</td>\n",
              "    </tr>\n",
              "    <tr>\n",
              "      <th>838</th>\n",
              "      <td>A Hat in Time</td>\n",
              "    </tr>\n",
              "    <tr>\n",
              "      <th>904</th>\n",
              "      <td>The Last Airbender</td>\n",
              "    </tr>\n",
              "    <tr>\n",
              "      <th>1085</th>\n",
              "      <td>Treasure Planet</td>\n",
              "    </tr>\n",
              "    <tr>\n",
              "      <th>1813</th>\n",
              "      <td>Predator</td>\n",
              "    </tr>\n",
              "    <tr>\n",
              "      <th>...</th>\n",
              "      <td>...</td>\n",
              "    </tr>\n",
              "    <tr>\n",
              "      <th>18761</th>\n",
              "      <td>PPL: The Animated Adventures</td>\n",
              "    </tr>\n",
              "    <tr>\n",
              "      <th>19472</th>\n",
              "      <td>Demolition Man</td>\n",
              "    </tr>\n",
              "    <tr>\n",
              "      <th>19474</th>\n",
              "      <td>Astro Bot: Rescue Mission</td>\n",
              "    </tr>\n",
              "    <tr>\n",
              "      <th>19627</th>\n",
              "      <td>20XX</td>\n",
              "    </tr>\n",
              "    <tr>\n",
              "      <th>19723</th>\n",
              "      <td>Creator Crate</td>\n",
              "    </tr>\n",
              "  </tbody>\n",
              "</table>\n",
              "<p>131 rows × 1 columns</p>\n",
              "</div>"
            ],
            "text/plain": [
              "                               name\n",
              "434       Sonic and the Fallen Star\n",
              "838                   A Hat in Time\n",
              "904              The Last Airbender\n",
              "1085                Treasure Planet\n",
              "1813                       Predator\n",
              "...                             ...\n",
              "18761  PPL: The Animated Adventures\n",
              "19472                Demolition Man\n",
              "19474     Astro Bot: Rescue Mission\n",
              "19627                          20XX\n",
              "19723                 Creator Crate\n",
              "\n",
              "[131 rows x 1 columns]"
            ]
          },
          "execution_count": 62,
          "metadata": {},
          "output_type": "execute_result"
        }
      ],
      "source": [
        "pd.DataFrame(df[df.plot_summary.str.contains(\"platformer\")].name)"
      ]
    },
    {
      "cell_type": "markdown",
      "metadata": {},
      "source": [
        "12. What is the most common certificate of games with ratings greater than 8.0 and votes greater than 1000?"
      ]
    },
    {
      "cell_type": "code",
      "execution_count": 63,
      "metadata": {},
      "outputs": [
        {
          "name": "stdout",
          "output_type": "stream",
          "text": [
            "The most common certificate of games with ratings greater than 8.0 and votes greater than 1000 is M\n"
          ]
        }
      ],
      "source": [
        "print(f'The most common certificate of games with ratings greater than 8.0 and votes greater than 1000 is {df[(df[\"rating\"] >= 8.0) & (df[\"votes\"] >= 1000)].certificate.describe().top}')"
      ]
    },
    {
      "cell_type": "markdown",
      "metadata": {},
      "source": [
        "13. For games with ratings greater than the 75th percentile for ratings and a number of votes greater than the 75th percentile for votes, what is the most common genre?"
      ]
    },
    {
      "cell_type": "code",
      "execution_count": 64,
      "metadata": {},
      "outputs": [
        {
          "name": "stdout",
          "output_type": "stream",
          "text": [
            "Action 1397\n",
            "Action 1397\n",
            "Adventure 1329\n",
            "Sci-Fi 274\n",
            "Thriller 65\n",
            "Comedy 202\n",
            "Crime 170\n",
            "Family 150\n",
            "Fantasy 595\n",
            "Mystery 168\n"
          ]
        }
      ],
      "source": [
        "rating_threshold = df.rating.quantile(0.75)\n",
        "votes_threshold = df.votes.quantile(0.75)\n",
        "\n",
        "genres = [\"Action\", \"Adventure\", \"Sci-Fi\", \"Thriller\", \"Comedy\", \"Crime\", \"Family\", \"Fantasy\", \"Mystery\"]\n",
        "\n",
        "good_games = df[(df.rating > rating_threshold) & (df.votes> votes_threshold)]\n",
        "good_action_games = good_games[good_games.Action == True]\n",
        "print(\"Action\", len(good_action_games))\n",
        "\n",
        "for genre in genres:\n",
        "    print(genre, len(good_games[good_games[genre]]))"
      ]
    },
    {
      "cell_type": "markdown",
      "metadata": {},
      "source": [
        "14. What are the average ratings by year?"
      ]
    },
    {
      "cell_type": "code",
      "execution_count": 65,
      "metadata": {},
      "outputs": [
        {
          "data": {
            "text/html": [
              "<div>\n",
              "<style scoped>\n",
              "    .dataframe tbody tr th:only-of-type {\n",
              "        vertical-align: middle;\n",
              "    }\n",
              "\n",
              "    .dataframe tbody tr th {\n",
              "        vertical-align: top;\n",
              "    }\n",
              "\n",
              "    .dataframe thead th {\n",
              "        text-align: right;\n",
              "    }\n",
              "</style>\n",
              "<table border=\"1\" class=\"dataframe\">\n",
              "  <thead>\n",
              "    <tr style=\"text-align: right;\">\n",
              "      <th></th>\n",
              "      <th>rating</th>\n",
              "    </tr>\n",
              "    <tr>\n",
              "      <th>year</th>\n",
              "      <th></th>\n",
              "    </tr>\n",
              "  </thead>\n",
              "  <tbody>\n",
              "    <tr>\n",
              "      <th>1952.0</th>\n",
              "      <td>7.000000</td>\n",
              "    </tr>\n",
              "    <tr>\n",
              "      <th>1962.0</th>\n",
              "      <td>6.800000</td>\n",
              "    </tr>\n",
              "    <tr>\n",
              "      <th>1964.0</th>\n",
              "      <td>NaN</td>\n",
              "    </tr>\n",
              "    <tr>\n",
              "      <th>1969.0</th>\n",
              "      <td>6.950000</td>\n",
              "    </tr>\n",
              "    <tr>\n",
              "      <th>1970.0</th>\n",
              "      <td>4.300000</td>\n",
              "    </tr>\n",
              "    <tr>\n",
              "      <th>...</th>\n",
              "      <td>...</td>\n",
              "    </tr>\n",
              "    <tr>\n",
              "      <th>2022.0</th>\n",
              "      <td>7.563063</td>\n",
              "    </tr>\n",
              "    <tr>\n",
              "      <th>2023.0</th>\n",
              "      <td>NaN</td>\n",
              "    </tr>\n",
              "    <tr>\n",
              "      <th>2024.0</th>\n",
              "      <td>NaN</td>\n",
              "    </tr>\n",
              "    <tr>\n",
              "      <th>2025.0</th>\n",
              "      <td>NaN</td>\n",
              "    </tr>\n",
              "    <tr>\n",
              "      <th>2027.0</th>\n",
              "      <td>NaN</td>\n",
              "    </tr>\n",
              "  </tbody>\n",
              "</table>\n",
              "<p>61 rows × 1 columns</p>\n",
              "</div>"
            ],
            "text/plain": [
              "          rating\n",
              "year            \n",
              "1952.0  7.000000\n",
              "1962.0  6.800000\n",
              "1964.0       NaN\n",
              "1969.0  6.950000\n",
              "1970.0  4.300000\n",
              "...          ...\n",
              "2022.0  7.563063\n",
              "2023.0       NaN\n",
              "2024.0       NaN\n",
              "2025.0       NaN\n",
              "2027.0       NaN\n",
              "\n",
              "[61 rows x 1 columns]"
            ]
          },
          "execution_count": 65,
          "metadata": {},
          "output_type": "execute_result"
        }
      ],
      "source": [
        "pd.DataFrame(df.groupby('year').rating.mean())"
      ]
    },
    {
      "cell_type": "markdown",
      "metadata": {},
      "source": [
        "15. For each cerficate, what was the average rating and average number of votes?"
      ]
    },
    {
      "cell_type": "code",
      "execution_count": 66,
      "metadata": {},
      "outputs": [
        {
          "data": {
            "text/html": [
              "<div>\n",
              "<style scoped>\n",
              "    .dataframe tbody tr th:only-of-type {\n",
              "        vertical-align: middle;\n",
              "    }\n",
              "\n",
              "    .dataframe tbody tr th {\n",
              "        vertical-align: top;\n",
              "    }\n",
              "\n",
              "    .dataframe thead tr th {\n",
              "        text-align: left;\n",
              "    }\n",
              "\n",
              "    .dataframe thead tr:last-of-type th {\n",
              "        text-align: right;\n",
              "    }\n",
              "</style>\n",
              "<table border=\"1\" class=\"dataframe\">\n",
              "  <thead>\n",
              "    <tr>\n",
              "      <th></th>\n",
              "      <th>rating</th>\n",
              "      <th>votes</th>\n",
              "    </tr>\n",
              "    <tr>\n",
              "      <th></th>\n",
              "      <th>mean</th>\n",
              "      <th>mean</th>\n",
              "    </tr>\n",
              "    <tr>\n",
              "      <th>certificate</th>\n",
              "      <th></th>\n",
              "      <th></th>\n",
              "    </tr>\n",
              "  </thead>\n",
              "  <tbody>\n",
              "    <tr>\n",
              "      <th>12</th>\n",
              "      <td>7.350000</td>\n",
              "      <td>27.888889</td>\n",
              "    </tr>\n",
              "    <tr>\n",
              "      <th>AO</th>\n",
              "      <td>6.493333</td>\n",
              "      <td>115.468750</td>\n",
              "    </tr>\n",
              "    <tr>\n",
              "      <th>Approved</th>\n",
              "      <td>6.900000</td>\n",
              "      <td>39.250000</td>\n",
              "    </tr>\n",
              "    <tr>\n",
              "      <th>CE</th>\n",
              "      <td>5.520000</td>\n",
              "      <td>4.846154</td>\n",
              "    </tr>\n",
              "    <tr>\n",
              "      <th>E</th>\n",
              "      <td>7.085637</td>\n",
              "      <td>245.684945</td>\n",
              "    </tr>\n",
              "    <tr>\n",
              "      <th>E10+</th>\n",
              "      <td>7.181231</td>\n",
              "      <td>425.671990</td>\n",
              "    </tr>\n",
              "    <tr>\n",
              "      <th>EC</th>\n",
              "      <td>6.142857</td>\n",
              "      <td>5.280000</td>\n",
              "    </tr>\n",
              "    <tr>\n",
              "      <th>G</th>\n",
              "      <td>5.600000</td>\n",
              "      <td>5.750000</td>\n",
              "    </tr>\n",
              "    <tr>\n",
              "      <th>GA</th>\n",
              "      <td>6.531579</td>\n",
              "      <td>120.653846</td>\n",
              "    </tr>\n",
              "    <tr>\n",
              "      <th>K-A</th>\n",
              "      <td>6.895238</td>\n",
              "      <td>268.515419</td>\n",
              "    </tr>\n",
              "    <tr>\n",
              "      <th>M</th>\n",
              "      <td>7.515584</td>\n",
              "      <td>2281.713736</td>\n",
              "    </tr>\n",
              "    <tr>\n",
              "      <th>MA-13</th>\n",
              "      <td>7.080000</td>\n",
              "      <td>59.428571</td>\n",
              "    </tr>\n",
              "    <tr>\n",
              "      <th>MA-17</th>\n",
              "      <td>6.000000</td>\n",
              "      <td>165.666667</td>\n",
              "    </tr>\n",
              "    <tr>\n",
              "      <th>Not Rated</th>\n",
              "      <td>6.703650</td>\n",
              "      <td>82.467391</td>\n",
              "    </tr>\n",
              "    <tr>\n",
              "      <th>PG</th>\n",
              "      <td>5.933333</td>\n",
              "      <td>106.333333</td>\n",
              "    </tr>\n",
              "    <tr>\n",
              "      <th>PG-13</th>\n",
              "      <td>6.628571</td>\n",
              "      <td>119.000000</td>\n",
              "    </tr>\n",
              "    <tr>\n",
              "      <th>Passed</th>\n",
              "      <td>4.700000</td>\n",
              "      <td>19.000000</td>\n",
              "    </tr>\n",
              "    <tr>\n",
              "      <th>T</th>\n",
              "      <td>7.295178</td>\n",
              "      <td>722.796281</td>\n",
              "    </tr>\n",
              "    <tr>\n",
              "      <th>TV-14</th>\n",
              "      <td>7.000000</td>\n",
              "      <td>127.000000</td>\n",
              "    </tr>\n",
              "    <tr>\n",
              "      <th>TV-MA</th>\n",
              "      <td>7.000000</td>\n",
              "      <td>4.000000</td>\n",
              "    </tr>\n",
              "    <tr>\n",
              "      <th>Unrated</th>\n",
              "      <td>6.478222</td>\n",
              "      <td>126.946058</td>\n",
              "    </tr>\n",
              "  </tbody>\n",
              "</table>\n",
              "</div>"
            ],
            "text/plain": [
              "               rating        votes\n",
              "                 mean         mean\n",
              "certificate                       \n",
              "12           7.350000    27.888889\n",
              "AO           6.493333   115.468750\n",
              "Approved     6.900000    39.250000\n",
              "CE           5.520000     4.846154\n",
              "E            7.085637   245.684945\n",
              "E10+         7.181231   425.671990\n",
              "EC           6.142857     5.280000\n",
              "G            5.600000     5.750000\n",
              "GA           6.531579   120.653846\n",
              "K-A          6.895238   268.515419\n",
              "M            7.515584  2281.713736\n",
              "MA-13        7.080000    59.428571\n",
              "MA-17        6.000000   165.666667\n",
              "Not Rated    6.703650    82.467391\n",
              "PG           5.933333   106.333333\n",
              "PG-13        6.628571   119.000000\n",
              "Passed       4.700000    19.000000\n",
              "T            7.295178   722.796281\n",
              "TV-14        7.000000   127.000000\n",
              "TV-MA        7.000000     4.000000\n",
              "Unrated      6.478222   126.946058"
            ]
          },
          "execution_count": 66,
          "metadata": {},
          "output_type": "execute_result"
        }
      ],
      "source": [
        "pd.DataFrame(df.groupby('certificate').agg({'rating':['mean'],'votes': ['mean']}))"
      ]
    }
  ],
  "metadata": {
    "colab": {
      "authorship_tag": "ABX9TyPG+ssWMxKywRQDkeiR9E1U",
      "include_colab_link": true,
      "mount_file_id": "1V16IS1TA0CmRy78Zy03QMP9hHtjmYEcW",
      "name": "EDA_10Steps.ipynb",
      "provenance": []
    },
    "kernelspec": {
      "display_name": "Python 3.9.12 ('base')",
      "language": "python",
      "name": "python3"
    },
    "language_info": {
      "codemirror_mode": {
        "name": "ipython",
        "version": 3
      },
      "file_extension": ".py",
      "mimetype": "text/x-python",
      "name": "python",
      "nbconvert_exporter": "python",
      "pygments_lexer": "ipython3",
      "version": "3.9.12"
    },
    "vscode": {
      "interpreter": {
        "hash": "23a076c2798c9e14c945cd4ebde3f0203c283fe48229e8cdc95bcdfb1e823abb"
      }
    }
  },
  "nbformat": 4,
  "nbformat_minor": 0
}
